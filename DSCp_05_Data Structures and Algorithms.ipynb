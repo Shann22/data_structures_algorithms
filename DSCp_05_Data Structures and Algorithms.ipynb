{
 "cells": [
  {
   "cell_type": "markdown",
   "id": "b3018471",
   "metadata": {},
   "source": [
    "### DSC Prep 5: Hands-on Project for Data Structures and Algorithms<br>\n",
    "Get your best monopoly man fake mustache on, because in this project, we're going to write a program that acts as a bank for the user! This project will help you consolidate the following skills:\n",
    "\n",
    "ETL: Extraction, Transform and Load in a very controlled environment<br>\n",
    "list manipulation<br>\n",
    "user input retrieval and management<br>\n",
    "function creation and execution<br>\n",
    "data type management and conversion<br>\n",
    "sorting algorithms<br>\n",
    "searching algorithms.<br>\n",
    "<br>\n",
    "In the process, you'll be doing some data manipulation, taking user inputs, and writing a sorting algorithm yourself. It should also be a fun challenge that can be built up slowly."
   ]
  },
  {
   "cell_type": "code",
   "execution_count": 1,
   "id": "6d743557",
   "metadata": {},
   "outputs": [
    {
     "name": "stdout",
     "output_type": "stream",
     "text": [
      "Do you still want to run the program? Y/Ny\n",
      "Do you want to credit your account in this transaction? Y/N200\n",
      "Please enter a valid input.\n",
      "Do you want to credit your account in this transaction? Y/Ny\n",
      "How much do you want to credit your account? 200\n",
      "Added  200.0 to your account.\n",
      "Your new balance is:  200.0\n",
      "Do you want to debit your account in this transaction? Y/Ny\n",
      "How much do you want to debit your account? 100\n",
      "Subtracted  100.0 from your account.\n",
      "Your new balance is:  100.0\n",
      "Thank you for the transaction. Have a nice day.\n",
      "Your new account looks like this: \n",
      "['Date', 'Credit', 'Debit', 'Balance']\n",
      "['12/7/2022', 200.0, 0, 200.0]\n",
      "['12/7/2022', 0, 100.0, 100.0]\n",
      "Do you still want to run the program? Y/Nn\n"
     ]
    }
   ],
   "source": [
    "import datetime\n",
    "account = [['Date', 'Credit', 'Debit', 'Balance']]\n",
    " \n",
    "def transaction():\n",
    "    now = datetime.datetime.now()\n",
    "    dayMonthYear = str(now.day)+'/'+str(now.month)+'/'+str(now.year)\n",
    "    \n",
    "    validInput = False\n",
    "    while validInput == False:\n",
    "        creditQ = input('Do you want to credit your account in this transaction? Y/N').lower()\n",
    "        if creditQ == 'y':\n",
    "            validInput = True # Why not '==' ?\n",
    "            credit = float(input('How much do you want to credit your account? '))\n",
    "            if len(account) > 1:\n",
    "                lastRow = account[len(account) - 1]\n",
    "                newRow = [dayMonthYear, credit, 0, credit + lastRow[3]]\n",
    "                account.append(newRow)\n",
    "                print('Added ', credit, 'to your account.')\n",
    "                print('Your new balance is: ', account[len(account)-1][3])\n",
    "            else: \n",
    "                newRow = [dayMonthYear, credit, 0, credit]\n",
    "                account.append(newRow)\n",
    "                print('Added ', credit, 'to your account.')\n",
    "                print('Your new balance is: ', account[len(account)-1][3])\n",
    "        elif creditQ == 'n':\n",
    "            validInput = True\n",
    "        else:\n",
    "            print('Please enter a valid input.')\n",
    " \n",
    "    validInput = False\n",
    "    while validInput == False:\n",
    "        debitQ = input('Do you want to debit your account in this transaction? Y/N').lower()\n",
    "        if debitQ == 'y':\n",
    "            validInput = True\n",
    "            debit = float(input('How much do you want to debit your account? '))\n",
    "            if len(account) > 1:\n",
    "                lastRow = account[len(account) - 1]\n",
    "                newRow = [dayMonthYear, 0, debit, lastRow[3] - debit]\n",
    "                account.append(newRow)\n",
    "                print('Subtracted ', debit, 'from your account.')\n",
    "                print('Your new balance is: ', account[len(account)-1][3])\n",
    "            else: \n",
    "                newRow = [dayMonthYear, 0, debit, -debit]\n",
    "                account.append(newRow)\n",
    "                print('Subtracted ', debit, 'from your account.')\n",
    "                print('Your new balance is: ', account[len(account)-1][3])\n",
    "        elif (debitQ == 'n'):\n",
    "            validInput = True\n",
    "        else: \n",
    "            print('Please enter a valid input.')\n",
    "    print('Thank you for the transaction. Have a nice day.')\n",
    "    \n",
    "userQuestion = input('Do you still want to run the program? Y/N').lower()\n",
    "while (userQuestion == 'y'):\n",
    "    transaction()\n",
    "    print('Your new account looks like this: ')\n",
    "    for i in account: \n",
    "        print (i)\n",
    "    userQuestion = input('Do you still want to run the program? Y/N').lower()"
   ]
  },
  {
   "cell_type": "markdown",
   "id": "b130e7e8",
   "metadata": {},
   "source": [
    "Practice using your function. Populate your table with this data, plugging in today's date for the DATE placeholder in the first element of every list. If you go wrong, pop() or remove items off your list."
   ]
  },
  {
   "cell_type": "code",
   "execution_count": 2,
   "id": "d7dacd2d",
   "metadata": {},
   "outputs": [
    {
     "name": "stdout",
     "output_type": "stream",
     "text": [
      "[['Date', 'Credit', 'Debit', 'Balance'], ['7/11/2022', 450.0, 0, 450.0], ['7/11/2022', 0, 30.0, 420.0], ['7/11/2022', 1000.0, 0, 1420.0], ['7/11/2022', 4400.0, 0, 5820.0], ['7/11/2022', 0, 776.0, 5044.0], ['7/11/2022', 2333.33, 0, 7377.33], ['7/11/2022', 2000.0, 0, 9377.33], ['7/11/2022', 0, 1444.33, 7933.0]]\n",
      "7933.0\n"
     ]
    }
   ],
   "source": [
    "account = [\n",
    "    ['Date', 'Credit', 'Debit', 'Balance'], \n",
    "    ['7/11/2022', 450.0, 0, 450.0], \n",
    "    ['7/11/2022', 0, 30.0, 420.0], \n",
    "    ['7/11/2022', 1000.0, 0, 1420.0],\n",
    "    ['7/11/2022', 4400.0, 0, 5820.0],\n",
    "    ['7/11/2022', 0, 776.0, 5044.0],\n",
    "    ['7/11/2022', 2333.33, 0, 7377.33], \n",
    "    ['7/11/2022', 2000.0, 0, 9377.33], \n",
    "    ['7/11/2022', 0, 1444.33, 7933.0]\n",
    "]\n",
    "print(account)\n",
    "print(account[len(account)-1][3])"
   ]
  },
  {
   "cell_type": "markdown",
   "id": "9b5d8426",
   "metadata": {},
   "source": [
    "When you're done, run the following code:\n",
    "for i in account:\n",
    "    print(i)\n"
   ]
  },
  {
   "cell_type": "code",
   "execution_count": 3,
   "id": "fc03dbd3",
   "metadata": {},
   "outputs": [
    {
     "name": "stdout",
     "output_type": "stream",
     "text": [
      "['Date', 'Credit', 'Debit', 'Balance']\n",
      "['7/11/2022', 450.0, 0, 450.0]\n",
      "['7/11/2022', 0, 30.0, 420.0]\n",
      "['7/11/2022', 1000.0, 0, 1420.0]\n",
      "['7/11/2022', 4400.0, 0, 5820.0]\n",
      "['7/11/2022', 0, 776.0, 5044.0]\n",
      "['7/11/2022', 2333.33, 0, 7377.33]\n",
      "['7/11/2022', 2000.0, 0, 9377.33]\n",
      "['7/11/2022', 0, 1444.33, 7933.0]\n"
     ]
    }
   ],
   "source": [
    "for i in account:\n",
    "    print(i)"
   ]
  },
  {
   "cell_type": "markdown",
   "id": "42b2ff00",
   "metadata": {},
   "source": [
    "### Bubble or Insertion sort\n",
    "Write out your favorite implementation of Bubble or Insertion sort, and print out the result of calling it on the following unsorted lists:"
   ]
  },
  {
   "cell_type": "markdown",
   "id": "93a9e0f6",
   "metadata": {},
   "source": [
    "test0 = [3, 22, 14, 434, 501, 11, 9, 1230, 304, 123, 5412, 381923, 302, -3, 1]<br>\n",
    "test1 = [43, 12, 7, 9, 22, 1, 104]<br>\n",
    "test2 = [100, 0, 0, -20, 30, -5]<br>\n",
    "test3 = [28, 4, 17, 666, 1001, 52, 61, 30]"
   ]
  },
  {
   "cell_type": "code",
   "execution_count": 4,
   "id": "f6230294",
   "metadata": {},
   "outputs": [
    {
     "name": "stdout",
     "output_type": "stream",
     "text": [
      "[-3, 1, 3, 9, 11, 14, 22, 123, 302, 304, 434, 501, 1230, 5412, 381923]\n",
      "[1, 7, 9, 12, 22, 43, 104]\n",
      "[-20, -5, 0, 0, 30, 100]\n",
      "[4, 17, 28, 30, 52, 61, 666, 1001]\n"
     ]
    }
   ],
   "source": [
    "def bubble_sort(list_of_numbers):\n",
    "    for i in range(len(list_of_numbers)):\n",
    "        for j in range(1, len(list_of_numbers)-i):\n",
    "            if list_of_numbers[j-1] > list_of_numbers[j]:\n",
    "                temp = list_of_numbers[j-1]\n",
    "                list_of_numbers[j-1] = list_of_numbers[j]\n",
    "                list_of_numbers[j] = temp   \n",
    "    return list_of_numbers\n",
    "\n",
    "test0 = [3, 22, 14, 434, 501, 11, 9, 1230, 304, 123, 5412, 381923, 302, -3, 1]\n",
    "print(bubble_sort(test0))\n",
    "\n",
    "test1 = [43, 12, 7, 9, 22, 1, 104]\n",
    "print(bubble_sort(test1))\n",
    "\n",
    "test2 = [100, 0, 0, -20, 30, -5]\n",
    "print(bubble_sort(test2))\n",
    "\n",
    "test3 = [28, 4, 17, 666, 1001, 52, 61, 30]\n",
    "print(bubble_sort(test3))"
   ]
  },
  {
   "cell_type": "code",
   "execution_count": 28,
   "id": "059dbfba",
   "metadata": {},
   "outputs": [
    {
     "name": "stdout",
     "output_type": "stream",
     "text": [
      "index =  0\n",
      "curr =  302\n",
      "position =  0\n",
      "list_of_numbers[position]=  302\n",
      "[302, -3, 1]\n",
      "=======================\n",
      "index =  1\n",
      "curr =  -3\n",
      "position =  1\n",
      "previous item is greater than the current element\n",
      "list_of_numbers[position]=  302\n",
      "position =  -1\n",
      "list_of_numbers=  [302, 302, 1]\n",
      "list_of_numbers[position]=  -3\n",
      "[-3, 302, 1]\n",
      "=======================\n",
      "index =  2\n",
      "curr =  1\n",
      "position =  2\n",
      "previous item is greater than the current element\n",
      "list_of_numbers[position]=  302\n",
      "position =  0\n",
      "list_of_numbers=  [-3, 302, 302]\n",
      "list_of_numbers[position]=  1\n",
      "[-3, 1, 302]\n",
      "=======================\n",
      "[-3, 1, 302]\n"
     ]
    }
   ],
   "source": [
    "def insert_sort(list_of_numbers):\n",
    "    \n",
    "    for index in range(len(list_of_numbers)):\n",
    "        print(\"index = \", index)\n",
    "\n",
    "        current_element = list_of_numbers[index] #Access the current element\n",
    "        print(\"curr = \", current_element)\n",
    "        position = index\n",
    "        print(\"position = \", position)\n",
    "\n",
    "\n",
    "        #Check if a position is greater than zero AND the previous item is greater than the current element\n",
    "        while position > 0 and list_of_numbers[position - 1] > current_element:\n",
    "            print(\"previous item is greater than the current element\")\n",
    "            list_of_numbers[position] = list_of_numbers[position - 1] #Set the value of the positioned element to the value of the previous element. We are doing this to make space for the new (inserted item)\n",
    "            print(\"list_of_numbers[position]= \", list_of_numbers[position - 1])\n",
    "            position = position - 1 #Move position to one back\n",
    "            print(\"position = \", position - 1)\n",
    "            print(\"list_of_numbers= \", list_of_numbers)\n",
    "\n",
    "        #Set the value of the final positioned item to be the value of the current_element\n",
    "        list_of_numbers[position] = current_element\n",
    "        print(\"list_of_numbers[position]= \", list_of_numbers[position])\n",
    "        print(list_of_numbers)\n",
    "        print(\"=======================\")\n",
    "    \n",
    "    return list_of_numbers\n",
    "\n",
    "test0 = [302, -3, 1]\n",
    "print(insert_sort(test0))\n"
   ]
  },
  {
   "cell_type": "markdown",
   "id": "530f6336",
   "metadata": {},
   "source": [
    "### Brute-Force, Iterative Binary or Recursive Binary search\n",
    "Implement your favorite Searching algorithm between Brute-Force search, Iterative Binary Search and Recursive Binary search on the following sorted lists and accompanying search items, in this order:"
   ]
  },
  {
   "cell_type": "markdown",
   "id": "5920a413",
   "metadata": {},
   "source": [
    "test0 = [-3, 1, 3, 9, 11, 14, 22, 123, 302, 304, 434, 501, 1230, 5412, 381923]<br>\n",
    "searchItem0 = 13\n",
    "<br>\n",
    " \n",
    "test1 = [1, 7, 9, 12, 22, 43, 104]<br>\n",
    "searchItem1 = 9\n",
    "<br>\n",
    " \n",
    "test2 = [-20, -5, 0, 0, 30, 100]<br>\n",
    "searchItem2 = 31\n",
    "<br>\n",
    " \n",
    "test3 = [4, 17, 28, 30, 52, 61, 666, 1001]<br>\n",
    "searchItem3 = 666"
   ]
  },
  {
   "cell_type": "code",
   "execution_count": 6,
   "id": "1015e94a",
   "metadata": {},
   "outputs": [
    {
     "name": "stdout",
     "output_type": "stream",
     "text": [
      "False\n",
      "True\n",
      "True\n",
      "True\n"
     ]
    }
   ],
   "source": [
    "def search(numbers, query_number):\n",
    "    found_number = False\n",
    "    \n",
    "    for number in numbers:\n",
    "        if number == query_number:\n",
    "            found_number = True\n",
    "            \n",
    "    return found_number\n",
    "\n",
    "test0 = [-3, 1, 3, 9, 11, 14, 22, 123, 302, 304, 434, 501, 1230, 5412, 381923]\n",
    "searchItem0 = 13\n",
    "print(search(test0, searchItem0))\n",
    "\n",
    "test1 = [1, 7, 9, 12, 22, 43, 104]\n",
    "searchItem1 = 9\n",
    "print(search(test1, searchItem1)) \n",
    " \n",
    "test2 = [-20, -5, 0, 0, 30, 100]\n",
    "searchItem2 = 31\n",
    "print(search(test1, searchItem1)) \n",
    " \n",
    "test3 = [4, 17, 28, 30, 52, 61, 666, 1001]\n",
    "searchItem3 = 666\n",
    "print(search(test1, searchItem1))"
   ]
  },
  {
   "cell_type": "code",
   "execution_count": 7,
   "id": "93d1a3c9",
   "metadata": {},
   "outputs": [
    {
     "name": "stdout",
     "output_type": "stream",
     "text": [
      "False\n",
      "True\n",
      "True\n",
      "True\n"
     ]
    }
   ],
   "source": [
    "def binary_search(list_of_numbers, query_item):\n",
    "    #Set index of the first item in the list and an index of the last item in the list\n",
    "    index_first = 0\n",
    "    index_last = len(list_of_numbers)-1\n",
    "    #Set the found variable to False\n",
    "    found = False\n",
    "\n",
    "    while index_first <= index_last and not found: #Check if the index_first is less than or equal to the index_last\n",
    "        \n",
    "        middle_index = (index_first + index_last)//2 #using index_first and index_last find the middle index\n",
    "\n",
    "        if query_item == list_of_numbers[middle_index]: #Check if the middle element is equal to the query_item     \n",
    "            found = True\n",
    "            break\n",
    "        else:\n",
    "            if query_item < list_of_numbers[middle_index]:\n",
    "                index_last = middle_index - 1 #If the query_item is less than the middle item, use the index_last to eliminate the upper part of the list\n",
    "            else:\n",
    "                index_first = middle_index + 1\n",
    "    \n",
    "    #Return the found boolean variable\n",
    "    return found\n",
    "\n",
    "test0 = [-3, 1, 3, 9, 11, 14, 22, 123, 302, 304, 434, 501, 1230, 5412, 381923]\n",
    "searchItem0 = 13\n",
    "print(binary_search(test0, searchItem0))\n",
    "\n",
    "test1 = [1, 7, 9, 12, 22, 43, 104]\n",
    "searchItem1 = 9\n",
    "print(binary_search(test1, searchItem1)) \n",
    " \n",
    "test2 = [-20, -5, 0, 0, 30, 100]\n",
    "searchItem2 = 31\n",
    "print(binary_search(test1, searchItem1)) \n",
    " \n",
    "test3 = [4, 17, 28, 30, 52, 61, 666, 1001]\n",
    "searchItem3 = 666\n",
    "print(binary_search(test1, searchItem1))\n"
   ]
  }
 ],
 "metadata": {
  "kernelspec": {
   "display_name": "Python 3 (ipykernel)",
   "language": "python",
   "name": "python3"
  },
  "language_info": {
   "codemirror_mode": {
    "name": "ipython",
    "version": 3
   },
   "file_extension": ".py",
   "mimetype": "text/x-python",
   "name": "python",
   "nbconvert_exporter": "python",
   "pygments_lexer": "ipython3",
   "version": "3.9.7"
  }
 },
 "nbformat": 4,
 "nbformat_minor": 5
}
